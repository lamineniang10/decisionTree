{
 "cells": [
  {
   "cell_type": "code",
   "execution_count": 597,
   "metadata": {},
   "outputs": [
    {
     "data": {
      "text/html": [
       "<div>\n",
       "<style scoped>\n",
       "    .dataframe tbody tr th:only-of-type {\n",
       "        vertical-align: middle;\n",
       "    }\n",
       "\n",
       "    .dataframe tbody tr th {\n",
       "        vertical-align: top;\n",
       "    }\n",
       "\n",
       "    .dataframe thead th {\n",
       "        text-align: right;\n",
       "    }\n",
       "</style>\n",
       "<table border=\"1\" class=\"dataframe\">\n",
       "  <thead>\n",
       "    <tr style=\"text-align: right;\">\n",
       "      <th></th>\n",
       "      <th>PassengerId</th>\n",
       "      <th>Survived</th>\n",
       "      <th>Pclass</th>\n",
       "      <th>Name</th>\n",
       "      <th>Sex</th>\n",
       "      <th>Age</th>\n",
       "      <th>SibSp</th>\n",
       "      <th>Parch</th>\n",
       "      <th>Ticket</th>\n",
       "      <th>Fare</th>\n",
       "      <th>Cabin</th>\n",
       "      <th>Embarked</th>\n",
       "    </tr>\n",
       "  </thead>\n",
       "  <tbody>\n",
       "    <tr>\n",
       "      <th>0</th>\n",
       "      <td>343</td>\n",
       "      <td>No</td>\n",
       "      <td>2</td>\n",
       "      <td>Collander, Mr. Erik Gustaf</td>\n",
       "      <td>male</td>\n",
       "      <td>28.0</td>\n",
       "      <td>0</td>\n",
       "      <td>0</td>\n",
       "      <td>248740</td>\n",
       "      <td>13.0000</td>\n",
       "      <td>NaN</td>\n",
       "      <td>S</td>\n",
       "    </tr>\n",
       "    <tr>\n",
       "      <th>1</th>\n",
       "      <td>76</td>\n",
       "      <td>No</td>\n",
       "      <td>3</td>\n",
       "      <td>Moen, Mr. Sigurd Hansen</td>\n",
       "      <td>male</td>\n",
       "      <td>25.0</td>\n",
       "      <td>0</td>\n",
       "      <td>0</td>\n",
       "      <td>348123</td>\n",
       "      <td>7.6500</td>\n",
       "      <td>F G73</td>\n",
       "      <td>S</td>\n",
       "    </tr>\n",
       "    <tr>\n",
       "      <th>2</th>\n",
       "      <td>641</td>\n",
       "      <td>No</td>\n",
       "      <td>3</td>\n",
       "      <td>Jensen, Mr. Hans Peder</td>\n",
       "      <td>male</td>\n",
       "      <td>20.0</td>\n",
       "      <td>0</td>\n",
       "      <td>0</td>\n",
       "      <td>350050</td>\n",
       "      <td>7.8542</td>\n",
       "      <td>NaN</td>\n",
       "      <td>S</td>\n",
       "    </tr>\n",
       "    <tr>\n",
       "      <th>3</th>\n",
       "      <td>568</td>\n",
       "      <td>No</td>\n",
       "      <td>3</td>\n",
       "      <td>Palsson, Mrs. Nils (Alma Cornelia Berglund)</td>\n",
       "      <td>female</td>\n",
       "      <td>29.0</td>\n",
       "      <td>0</td>\n",
       "      <td>4</td>\n",
       "      <td>349909</td>\n",
       "      <td>21.0750</td>\n",
       "      <td>NaN</td>\n",
       "      <td>S</td>\n",
       "    </tr>\n",
       "    <tr>\n",
       "      <th>4</th>\n",
       "      <td>672</td>\n",
       "      <td>No</td>\n",
       "      <td>1</td>\n",
       "      <td>Davidson, Mr. Thornton</td>\n",
       "      <td>male</td>\n",
       "      <td>31.0</td>\n",
       "      <td>1</td>\n",
       "      <td>0</td>\n",
       "      <td>F.C. 12750</td>\n",
       "      <td>52.0000</td>\n",
       "      <td>B71</td>\n",
       "      <td>S</td>\n",
       "    </tr>\n",
       "  </tbody>\n",
       "</table>\n",
       "</div>"
      ],
      "text/plain": [
       "   PassengerId Survived  Pclass                                         Name  \\\n",
       "0          343       No       2                   Collander, Mr. Erik Gustaf   \n",
       "1           76       No       3                      Moen, Mr. Sigurd Hansen   \n",
       "2          641       No       3                       Jensen, Mr. Hans Peder   \n",
       "3          568       No       3  Palsson, Mrs. Nils (Alma Cornelia Berglund)   \n",
       "4          672       No       1                       Davidson, Mr. Thornton   \n",
       "\n",
       "      Sex   Age  SibSp  Parch      Ticket     Fare  Cabin Embarked  \n",
       "0    male  28.0      0      0      248740  13.0000    NaN        S  \n",
       "1    male  25.0      0      0      348123   7.6500  F G73        S  \n",
       "2    male  20.0      0      0      350050   7.8542    NaN        S  \n",
       "3  female  29.0      0      4      349909  21.0750    NaN        S  \n",
       "4    male  31.0      1      0  F.C. 12750  52.0000    B71        S  "
      ]
     },
     "execution_count": 597,
     "metadata": {},
     "output_type": "execute_result"
    }
   ],
   "source": [
    "import numpy as np\n",
    "import pandas as pd\n",
    "from sklearn.model_selection import train_test_split\n",
    "from sklearn import tree\n",
    "from sklearn.tree import DecisionTreeClassifier\n",
    "from sklearn.tree import plot_tree\n",
    "from sklearn.metrics import accuracy_score\n",
    "import matplotlib.pyplot as plt\n",
    "from sklearn.ensemble import RandomForestClassifier\n",
    "#read the titanic-passengers.csv file\n",
    "df = pd.read_csv(\"titanic-passengers.csv\", sep =';')\n",
    "#show the head of the titanic-passengers file\n",
    "df.head()"
   ]
  },
  {
   "cell_type": "code",
   "execution_count": 598,
   "metadata": {},
   "outputs": [
    {
     "name": "stdout",
     "output_type": "stream",
     "text": [
      "<class 'pandas.core.frame.DataFrame'>\n",
      "RangeIndex: 891 entries, 0 to 890\n",
      "Data columns (total 12 columns):\n",
      " #   Column       Non-Null Count  Dtype  \n",
      "---  ------       --------------  -----  \n",
      " 0   PassengerId  891 non-null    int64  \n",
      " 1   Survived     891 non-null    object \n",
      " 2   Pclass       891 non-null    int64  \n",
      " 3   Name         891 non-null    object \n",
      " 4   Sex          891 non-null    object \n",
      " 5   Age          714 non-null    float64\n",
      " 6   SibSp        891 non-null    int64  \n",
      " 7   Parch        891 non-null    int64  \n",
      " 8   Ticket       891 non-null    object \n",
      " 9   Fare         891 non-null    float64\n",
      " 10  Cabin        204 non-null    object \n",
      " 11  Embarked     889 non-null    object \n",
      "dtypes: float64(2), int64(4), object(6)\n",
      "memory usage: 83.7+ KB\n"
     ]
    }
   ],
   "source": [
    "#show the informations of the file\n",
    "df.info()"
   ]
  },
  {
   "cell_type": "code",
   "execution_count": 599,
   "metadata": {},
   "outputs": [
    {
     "data": {
      "text/plain": [
       "PassengerId      0\n",
       "Survived         0\n",
       "Pclass           0\n",
       "Name             0\n",
       "Sex              0\n",
       "Age            177\n",
       "SibSp            0\n",
       "Parch            0\n",
       "Ticket           0\n",
       "Fare             0\n",
       "Cabin          687\n",
       "Embarked         2\n",
       "dtype: int64"
      ]
     },
     "execution_count": 599,
     "metadata": {},
     "output_type": "execute_result"
    }
   ],
   "source": [
    "#check the sum of the missing values with isnull()\n",
    "df.isnull().sum()"
   ]
  },
  {
   "cell_type": "code",
   "execution_count": 600,
   "metadata": {},
   "outputs": [
    {
     "data": {
      "text/plain": [
       "S    644\n",
       "C    168\n",
       "Q     77\n",
       "Name: Embarked, dtype: int64"
      ]
     },
     "execution_count": 600,
     "metadata": {},
     "output_type": "execute_result"
    }
   ],
   "source": [
    "# replace the missing values in the differents columns\n",
    "#replace the missing values of age by the mode()\n",
    "df.fillna({'Age': df['Age'].mode()[0]}, inplace=True)\n",
    "#replace the missing values of 'embarked' by the most represented value\n",
    "#look fisrt 'Emarked' value_counts\n",
    "df['Embarked'].value_counts()"
   ]
  },
  {
   "cell_type": "code",
   "execution_count": 601,
   "metadata": {},
   "outputs": [],
   "source": [
    "#S is beingt the modalities the mos represented, we will replace the NAN by in the 'Embarked' category\n",
    "df.fillna({'Embarked': df['Embarked'].mode()[0]}, inplace=True)"
   ]
  },
  {
   "cell_type": "code",
   "execution_count": 602,
   "metadata": {},
   "outputs": [
    {
     "data": {
      "text/plain": [
       "G6             4\n",
       "B96 B98        4\n",
       "C23 C25 C27    4\n",
       "C22 C26        3\n",
       "F33            3\n",
       "              ..\n",
       "D46            1\n",
       "D56            1\n",
       "C111           1\n",
       "B50            1\n",
       "A32            1\n",
       "Name: Cabin, Length: 147, dtype: int64"
      ]
     },
     "execution_count": 602,
     "metadata": {},
     "output_type": "execute_result"
    }
   ],
   "source": [
    "#the 'Cabin' column representing too many values for the distribution, we will done a larger grouping to be able \n",
    "#add dummies afterwards large pour pouvaoir aprés\n",
    "#observation to values of  'Cabin'\n",
    "df['Cabin'].value_counts()"
   ]
  },
  {
   "cell_type": "code",
   "execution_count": 603,
   "metadata": {},
   "outputs": [
    {
     "data": {
      "text/plain": [
       "X              687\n",
       "B96 B98          4\n",
       "G6               4\n",
       "C23 C25 C27      4\n",
       "D                3\n",
       "              ... \n",
       "D46              1\n",
       "D56              1\n",
       "C111             1\n",
       "B50              1\n",
       "A32              1\n",
       "Name: Cabin, Length: 148, dtype: int64"
      ]
     },
     "execution_count": 603,
     "metadata": {},
     "output_type": "execute_result"
    }
   ],
   "source": [
    "#replace the missing values by a fictious value\n",
    "df['Cabin'].fillna('X', inplace=True)\n",
    "df['Cabin'].value_counts()"
   ]
  },
  {
   "cell_type": "code",
   "execution_count": 604,
   "metadata": {},
   "outputs": [],
   "source": [
    "#let's do grouping  terms of 'cabin' taking only the first caracter of each valuer\n",
    "df['Cabin'] = df['Cabin'].str[0]"
   ]
  },
  {
   "cell_type": "code",
   "execution_count": 605,
   "metadata": {},
   "outputs": [
    {
     "data": {
      "text/plain": [
       "X    687\n",
       "C     59\n",
       "B     47\n",
       "D     33\n",
       "E     32\n",
       "A     15\n",
       "F     13\n",
       "G      4\n",
       "T      1\n",
       "Name: Cabin, dtype: int64"
      ]
     },
     "execution_count": 605,
     "metadata": {},
     "output_type": "execute_result"
    }
   ],
   "source": [
    "df['Cabin'].value_counts()"
   ]
  },
  {
   "cell_type": "code",
   "execution_count": 606,
   "metadata": {},
   "outputs": [
    {
     "name": "stdout",
     "output_type": "stream",
     "text": [
      "Min value of age:  0.42\n",
      "Max age:  80.0\n"
     ]
    }
   ],
   "source": [
    "#let's categorize every 'Age' in one group\n",
    "print('Min value of age: ', df['Age'].min())\n",
    "print('Max age: ', df['Age'].max())"
   ]
  },
  {
   "cell_type": "code",
   "execution_count": 607,
   "metadata": {},
   "outputs": [],
   "source": [
    "bins = [0, 5, 17, 25, 50, 80]\n",
    "labels = ['Infant', 'Kid', 'Young', 'Adult', 'Old']\n",
    "df['Age'] = pd.cut(df['Age'], bins = bins, labels=labels)"
   ]
  },
  {
   "cell_type": "code",
   "execution_count": 608,
   "metadata": {},
   "outputs": [
    {
     "data": {
      "text/plain": [
       "Young     365\n",
       "Adult     349\n",
       "Kid        69\n",
       "Old        64\n",
       "Infant     44\n",
       "Name: Age, dtype: int64"
      ]
     },
     "execution_count": 608,
     "metadata": {},
     "output_type": "execute_result"
    }
   ],
   "source": [
    "df['Age'].value_counts()"
   ]
  },
  {
   "cell_type": "code",
   "execution_count": 609,
   "metadata": {},
   "outputs": [],
   "source": [
    "#let's categorize every 'Fare' in one group\n",
    "bins = [-1, 7.9101, 14.4542, 31, 512.330]\n",
    "labels = ['low', 'medium-low', 'medium', 'heigh']\n",
    "df['Fare'] = pd.cut(df['Fare'], bins = bins, labels = labels)"
   ]
  },
  {
   "cell_type": "code",
   "execution_count": 610,
   "metadata": {},
   "outputs": [
    {
     "data": {
      "text/html": [
       "<div>\n",
       "<style scoped>\n",
       "    .dataframe tbody tr th:only-of-type {\n",
       "        vertical-align: middle;\n",
       "    }\n",
       "\n",
       "    .dataframe tbody tr th {\n",
       "        vertical-align: top;\n",
       "    }\n",
       "\n",
       "    .dataframe thead th {\n",
       "        text-align: right;\n",
       "    }\n",
       "</style>\n",
       "<table border=\"1\" class=\"dataframe\">\n",
       "  <thead>\n",
       "    <tr style=\"text-align: right;\">\n",
       "      <th></th>\n",
       "      <th>PassengerId</th>\n",
       "      <th>Survived</th>\n",
       "      <th>Pclass</th>\n",
       "      <th>Name</th>\n",
       "      <th>Sex</th>\n",
       "      <th>Age</th>\n",
       "      <th>SibSp</th>\n",
       "      <th>Parch</th>\n",
       "      <th>Ticket</th>\n",
       "      <th>Fare</th>\n",
       "      <th>Cabin</th>\n",
       "      <th>Embarked</th>\n",
       "    </tr>\n",
       "  </thead>\n",
       "  <tbody>\n",
       "    <tr>\n",
       "      <th>0</th>\n",
       "      <td>343</td>\n",
       "      <td>No</td>\n",
       "      <td>2</td>\n",
       "      <td>Collander, Mr. Erik Gustaf</td>\n",
       "      <td>male</td>\n",
       "      <td>Adult</td>\n",
       "      <td>0</td>\n",
       "      <td>0</td>\n",
       "      <td>248740</td>\n",
       "      <td>medium-low</td>\n",
       "      <td>X</td>\n",
       "      <td>S</td>\n",
       "    </tr>\n",
       "    <tr>\n",
       "      <th>1</th>\n",
       "      <td>76</td>\n",
       "      <td>No</td>\n",
       "      <td>3</td>\n",
       "      <td>Moen, Mr. Sigurd Hansen</td>\n",
       "      <td>male</td>\n",
       "      <td>Young</td>\n",
       "      <td>0</td>\n",
       "      <td>0</td>\n",
       "      <td>348123</td>\n",
       "      <td>low</td>\n",
       "      <td>F</td>\n",
       "      <td>S</td>\n",
       "    </tr>\n",
       "    <tr>\n",
       "      <th>2</th>\n",
       "      <td>641</td>\n",
       "      <td>No</td>\n",
       "      <td>3</td>\n",
       "      <td>Jensen, Mr. Hans Peder</td>\n",
       "      <td>male</td>\n",
       "      <td>Young</td>\n",
       "      <td>0</td>\n",
       "      <td>0</td>\n",
       "      <td>350050</td>\n",
       "      <td>low</td>\n",
       "      <td>X</td>\n",
       "      <td>S</td>\n",
       "    </tr>\n",
       "    <tr>\n",
       "      <th>3</th>\n",
       "      <td>568</td>\n",
       "      <td>No</td>\n",
       "      <td>3</td>\n",
       "      <td>Palsson, Mrs. Nils (Alma Cornelia Berglund)</td>\n",
       "      <td>female</td>\n",
       "      <td>Adult</td>\n",
       "      <td>0</td>\n",
       "      <td>4</td>\n",
       "      <td>349909</td>\n",
       "      <td>medium</td>\n",
       "      <td>X</td>\n",
       "      <td>S</td>\n",
       "    </tr>\n",
       "    <tr>\n",
       "      <th>4</th>\n",
       "      <td>672</td>\n",
       "      <td>No</td>\n",
       "      <td>1</td>\n",
       "      <td>Davidson, Mr. Thornton</td>\n",
       "      <td>male</td>\n",
       "      <td>Adult</td>\n",
       "      <td>1</td>\n",
       "      <td>0</td>\n",
       "      <td>F.C. 12750</td>\n",
       "      <td>heigh</td>\n",
       "      <td>B</td>\n",
       "      <td>S</td>\n",
       "    </tr>\n",
       "  </tbody>\n",
       "</table>\n",
       "</div>"
      ],
      "text/plain": [
       "   PassengerId Survived  Pclass                                         Name  \\\n",
       "0          343       No       2                   Collander, Mr. Erik Gustaf   \n",
       "1           76       No       3                      Moen, Mr. Sigurd Hansen   \n",
       "2          641       No       3                       Jensen, Mr. Hans Peder   \n",
       "3          568       No       3  Palsson, Mrs. Nils (Alma Cornelia Berglund)   \n",
       "4          672       No       1                       Davidson, Mr. Thornton   \n",
       "\n",
       "      Sex    Age  SibSp  Parch      Ticket        Fare Cabin Embarked  \n",
       "0    male  Adult      0      0      248740  medium-low     X        S  \n",
       "1    male  Young      0      0      348123         low     F        S  \n",
       "2    male  Young      0      0      350050         low     X        S  \n",
       "3  female  Adult      0      4      349909      medium     X        S  \n",
       "4    male  Adult      1      0  F.C. 12750       heigh     B        S  "
      ]
     },
     "execution_count": 610,
     "metadata": {},
     "output_type": "execute_result"
    }
   ],
   "source": [
    "df.head()"
   ]
  },
  {
   "cell_type": "code",
   "execution_count": 611,
   "metadata": {},
   "outputs": [],
   "source": [
    "dummies = ['Fare', 'Age', 'Sex']\n",
    "dummy_data = pd.get_dummies(df[dummies])"
   ]
  },
  {
   "cell_type": "code",
   "execution_count": 612,
   "metadata": {},
   "outputs": [],
   "source": [
    "df = pd.concat([df, dummy_data], axis=1)\n",
    "df.drop(dummies, axis=1, inplace=True)"
   ]
  },
  {
   "cell_type": "code",
   "execution_count": 613,
   "metadata": {},
   "outputs": [
    {
     "data": {
      "text/html": [
       "<div>\n",
       "<style scoped>\n",
       "    .dataframe tbody tr th:only-of-type {\n",
       "        vertical-align: middle;\n",
       "    }\n",
       "\n",
       "    .dataframe tbody tr th {\n",
       "        vertical-align: top;\n",
       "    }\n",
       "\n",
       "    .dataframe thead th {\n",
       "        text-align: right;\n",
       "    }\n",
       "</style>\n",
       "<table border=\"1\" class=\"dataframe\">\n",
       "  <thead>\n",
       "    <tr style=\"text-align: right;\">\n",
       "      <th></th>\n",
       "      <th>PassengerId</th>\n",
       "      <th>Survived</th>\n",
       "      <th>Pclass</th>\n",
       "      <th>Name</th>\n",
       "      <th>SibSp</th>\n",
       "      <th>Parch</th>\n",
       "      <th>Ticket</th>\n",
       "      <th>Cabin</th>\n",
       "      <th>Embarked</th>\n",
       "      <th>Fare_low</th>\n",
       "      <th>Fare_medium-low</th>\n",
       "      <th>Fare_medium</th>\n",
       "      <th>Fare_heigh</th>\n",
       "      <th>Age_Infant</th>\n",
       "      <th>Age_Kid</th>\n",
       "      <th>Age_Young</th>\n",
       "      <th>Age_Adult</th>\n",
       "      <th>Age_Old</th>\n",
       "      <th>Sex_female</th>\n",
       "      <th>Sex_male</th>\n",
       "    </tr>\n",
       "  </thead>\n",
       "  <tbody>\n",
       "    <tr>\n",
       "      <th>0</th>\n",
       "      <td>343</td>\n",
       "      <td>No</td>\n",
       "      <td>2</td>\n",
       "      <td>Collander, Mr. Erik Gustaf</td>\n",
       "      <td>0</td>\n",
       "      <td>0</td>\n",
       "      <td>248740</td>\n",
       "      <td>X</td>\n",
       "      <td>S</td>\n",
       "      <td>0</td>\n",
       "      <td>1</td>\n",
       "      <td>0</td>\n",
       "      <td>0</td>\n",
       "      <td>0</td>\n",
       "      <td>0</td>\n",
       "      <td>0</td>\n",
       "      <td>1</td>\n",
       "      <td>0</td>\n",
       "      <td>0</td>\n",
       "      <td>1</td>\n",
       "    </tr>\n",
       "    <tr>\n",
       "      <th>1</th>\n",
       "      <td>76</td>\n",
       "      <td>No</td>\n",
       "      <td>3</td>\n",
       "      <td>Moen, Mr. Sigurd Hansen</td>\n",
       "      <td>0</td>\n",
       "      <td>0</td>\n",
       "      <td>348123</td>\n",
       "      <td>F</td>\n",
       "      <td>S</td>\n",
       "      <td>1</td>\n",
       "      <td>0</td>\n",
       "      <td>0</td>\n",
       "      <td>0</td>\n",
       "      <td>0</td>\n",
       "      <td>0</td>\n",
       "      <td>1</td>\n",
       "      <td>0</td>\n",
       "      <td>0</td>\n",
       "      <td>0</td>\n",
       "      <td>1</td>\n",
       "    </tr>\n",
       "    <tr>\n",
       "      <th>2</th>\n",
       "      <td>641</td>\n",
       "      <td>No</td>\n",
       "      <td>3</td>\n",
       "      <td>Jensen, Mr. Hans Peder</td>\n",
       "      <td>0</td>\n",
       "      <td>0</td>\n",
       "      <td>350050</td>\n",
       "      <td>X</td>\n",
       "      <td>S</td>\n",
       "      <td>1</td>\n",
       "      <td>0</td>\n",
       "      <td>0</td>\n",
       "      <td>0</td>\n",
       "      <td>0</td>\n",
       "      <td>0</td>\n",
       "      <td>1</td>\n",
       "      <td>0</td>\n",
       "      <td>0</td>\n",
       "      <td>0</td>\n",
       "      <td>1</td>\n",
       "    </tr>\n",
       "    <tr>\n",
       "      <th>3</th>\n",
       "      <td>568</td>\n",
       "      <td>No</td>\n",
       "      <td>3</td>\n",
       "      <td>Palsson, Mrs. Nils (Alma Cornelia Berglund)</td>\n",
       "      <td>0</td>\n",
       "      <td>4</td>\n",
       "      <td>349909</td>\n",
       "      <td>X</td>\n",
       "      <td>S</td>\n",
       "      <td>0</td>\n",
       "      <td>0</td>\n",
       "      <td>1</td>\n",
       "      <td>0</td>\n",
       "      <td>0</td>\n",
       "      <td>0</td>\n",
       "      <td>0</td>\n",
       "      <td>1</td>\n",
       "      <td>0</td>\n",
       "      <td>1</td>\n",
       "      <td>0</td>\n",
       "    </tr>\n",
       "    <tr>\n",
       "      <th>4</th>\n",
       "      <td>672</td>\n",
       "      <td>No</td>\n",
       "      <td>1</td>\n",
       "      <td>Davidson, Mr. Thornton</td>\n",
       "      <td>1</td>\n",
       "      <td>0</td>\n",
       "      <td>F.C. 12750</td>\n",
       "      <td>B</td>\n",
       "      <td>S</td>\n",
       "      <td>0</td>\n",
       "      <td>0</td>\n",
       "      <td>0</td>\n",
       "      <td>1</td>\n",
       "      <td>0</td>\n",
       "      <td>0</td>\n",
       "      <td>0</td>\n",
       "      <td>1</td>\n",
       "      <td>0</td>\n",
       "      <td>0</td>\n",
       "      <td>1</td>\n",
       "    </tr>\n",
       "  </tbody>\n",
       "</table>\n",
       "</div>"
      ],
      "text/plain": [
       "   PassengerId Survived  Pclass                                         Name  \\\n",
       "0          343       No       2                   Collander, Mr. Erik Gustaf   \n",
       "1           76       No       3                      Moen, Mr. Sigurd Hansen   \n",
       "2          641       No       3                       Jensen, Mr. Hans Peder   \n",
       "3          568       No       3  Palsson, Mrs. Nils (Alma Cornelia Berglund)   \n",
       "4          672       No       1                       Davidson, Mr. Thornton   \n",
       "\n",
       "   SibSp  Parch      Ticket Cabin Embarked  Fare_low  Fare_medium-low  \\\n",
       "0      0      0      248740     X        S         0                1   \n",
       "1      0      0      348123     F        S         1                0   \n",
       "2      0      0      350050     X        S         1                0   \n",
       "3      0      4      349909     X        S         0                0   \n",
       "4      1      0  F.C. 12750     B        S         0                0   \n",
       "\n",
       "   Fare_medium  Fare_heigh  Age_Infant  Age_Kid  Age_Young  Age_Adult  \\\n",
       "0            0           0           0        0          0          1   \n",
       "1            0           0           0        0          1          0   \n",
       "2            0           0           0        0          1          0   \n",
       "3            1           0           0        0          0          1   \n",
       "4            0           1           0        0          0          1   \n",
       "\n",
       "   Age_Old  Sex_female  Sex_male  \n",
       "0        0           0         1  \n",
       "1        0           0         1  \n",
       "2        0           0         1  \n",
       "3        0           1         0  \n",
       "4        0           0         1  "
      ]
     },
     "execution_count": 613,
     "metadata": {},
     "output_type": "execute_result"
    }
   ],
   "source": [
    "df.head()"
   ]
  },
  {
   "cell_type": "code",
   "execution_count": 614,
   "metadata": {},
   "outputs": [],
   "source": [
    "#encode our output variable\n",
    "survived_title = {\n",
    "    \"Survived\" : {\n",
    "        \"Yes\" : 1,\n",
    "        \"No\" : 0\n",
    "    }\n",
    "}\n",
    "#replace the values of 'Survived' by the encoded variable\n",
    "df.replace(survived_title, inplace=True)"
   ]
  },
  {
   "cell_type": "code",
   "execution_count": 615,
   "metadata": {},
   "outputs": [
    {
     "data": {
      "text/html": [
       "<div>\n",
       "<style scoped>\n",
       "    .dataframe tbody tr th:only-of-type {\n",
       "        vertical-align: middle;\n",
       "    }\n",
       "\n",
       "    .dataframe tbody tr th {\n",
       "        vertical-align: top;\n",
       "    }\n",
       "\n",
       "    .dataframe thead th {\n",
       "        text-align: right;\n",
       "    }\n",
       "</style>\n",
       "<table border=\"1\" class=\"dataframe\">\n",
       "  <thead>\n",
       "    <tr style=\"text-align: right;\">\n",
       "      <th></th>\n",
       "      <th>PassengerId</th>\n",
       "      <th>Survived</th>\n",
       "      <th>Pclass</th>\n",
       "      <th>Name</th>\n",
       "      <th>SibSp</th>\n",
       "      <th>Parch</th>\n",
       "      <th>Ticket</th>\n",
       "      <th>Cabin</th>\n",
       "      <th>Embarked</th>\n",
       "      <th>Fare_low</th>\n",
       "      <th>Fare_medium-low</th>\n",
       "      <th>Fare_medium</th>\n",
       "      <th>Fare_heigh</th>\n",
       "      <th>Age_Infant</th>\n",
       "      <th>Age_Kid</th>\n",
       "      <th>Age_Young</th>\n",
       "      <th>Age_Adult</th>\n",
       "      <th>Age_Old</th>\n",
       "      <th>Sex_female</th>\n",
       "      <th>Sex_male</th>\n",
       "    </tr>\n",
       "  </thead>\n",
       "  <tbody>\n",
       "    <tr>\n",
       "      <th>0</th>\n",
       "      <td>343</td>\n",
       "      <td>0</td>\n",
       "      <td>2</td>\n",
       "      <td>Collander, Mr. Erik Gustaf</td>\n",
       "      <td>0</td>\n",
       "      <td>0</td>\n",
       "      <td>248740</td>\n",
       "      <td>X</td>\n",
       "      <td>S</td>\n",
       "      <td>0</td>\n",
       "      <td>1</td>\n",
       "      <td>0</td>\n",
       "      <td>0</td>\n",
       "      <td>0</td>\n",
       "      <td>0</td>\n",
       "      <td>0</td>\n",
       "      <td>1</td>\n",
       "      <td>0</td>\n",
       "      <td>0</td>\n",
       "      <td>1</td>\n",
       "    </tr>\n",
       "    <tr>\n",
       "      <th>1</th>\n",
       "      <td>76</td>\n",
       "      <td>0</td>\n",
       "      <td>3</td>\n",
       "      <td>Moen, Mr. Sigurd Hansen</td>\n",
       "      <td>0</td>\n",
       "      <td>0</td>\n",
       "      <td>348123</td>\n",
       "      <td>F</td>\n",
       "      <td>S</td>\n",
       "      <td>1</td>\n",
       "      <td>0</td>\n",
       "      <td>0</td>\n",
       "      <td>0</td>\n",
       "      <td>0</td>\n",
       "      <td>0</td>\n",
       "      <td>1</td>\n",
       "      <td>0</td>\n",
       "      <td>0</td>\n",
       "      <td>0</td>\n",
       "      <td>1</td>\n",
       "    </tr>\n",
       "    <tr>\n",
       "      <th>2</th>\n",
       "      <td>641</td>\n",
       "      <td>0</td>\n",
       "      <td>3</td>\n",
       "      <td>Jensen, Mr. Hans Peder</td>\n",
       "      <td>0</td>\n",
       "      <td>0</td>\n",
       "      <td>350050</td>\n",
       "      <td>X</td>\n",
       "      <td>S</td>\n",
       "      <td>1</td>\n",
       "      <td>0</td>\n",
       "      <td>0</td>\n",
       "      <td>0</td>\n",
       "      <td>0</td>\n",
       "      <td>0</td>\n",
       "      <td>1</td>\n",
       "      <td>0</td>\n",
       "      <td>0</td>\n",
       "      <td>0</td>\n",
       "      <td>1</td>\n",
       "    </tr>\n",
       "    <tr>\n",
       "      <th>3</th>\n",
       "      <td>568</td>\n",
       "      <td>0</td>\n",
       "      <td>3</td>\n",
       "      <td>Palsson, Mrs. Nils (Alma Cornelia Berglund)</td>\n",
       "      <td>0</td>\n",
       "      <td>4</td>\n",
       "      <td>349909</td>\n",
       "      <td>X</td>\n",
       "      <td>S</td>\n",
       "      <td>0</td>\n",
       "      <td>0</td>\n",
       "      <td>1</td>\n",
       "      <td>0</td>\n",
       "      <td>0</td>\n",
       "      <td>0</td>\n",
       "      <td>0</td>\n",
       "      <td>1</td>\n",
       "      <td>0</td>\n",
       "      <td>1</td>\n",
       "      <td>0</td>\n",
       "    </tr>\n",
       "    <tr>\n",
       "      <th>4</th>\n",
       "      <td>672</td>\n",
       "      <td>0</td>\n",
       "      <td>1</td>\n",
       "      <td>Davidson, Mr. Thornton</td>\n",
       "      <td>1</td>\n",
       "      <td>0</td>\n",
       "      <td>F.C. 12750</td>\n",
       "      <td>B</td>\n",
       "      <td>S</td>\n",
       "      <td>0</td>\n",
       "      <td>0</td>\n",
       "      <td>0</td>\n",
       "      <td>1</td>\n",
       "      <td>0</td>\n",
       "      <td>0</td>\n",
       "      <td>0</td>\n",
       "      <td>1</td>\n",
       "      <td>0</td>\n",
       "      <td>0</td>\n",
       "      <td>1</td>\n",
       "    </tr>\n",
       "  </tbody>\n",
       "</table>\n",
       "</div>"
      ],
      "text/plain": [
       "   PassengerId  Survived  Pclass                                         Name  \\\n",
       "0          343         0       2                   Collander, Mr. Erik Gustaf   \n",
       "1           76         0       3                      Moen, Mr. Sigurd Hansen   \n",
       "2          641         0       3                       Jensen, Mr. Hans Peder   \n",
       "3          568         0       3  Palsson, Mrs. Nils (Alma Cornelia Berglund)   \n",
       "4          672         0       1                       Davidson, Mr. Thornton   \n",
       "\n",
       "   SibSp  Parch      Ticket Cabin Embarked  Fare_low  Fare_medium-low  \\\n",
       "0      0      0      248740     X        S         0                1   \n",
       "1      0      0      348123     F        S         1                0   \n",
       "2      0      0      350050     X        S         1                0   \n",
       "3      0      4      349909     X        S         0                0   \n",
       "4      1      0  F.C. 12750     B        S         0                0   \n",
       "\n",
       "   Fare_medium  Fare_heigh  Age_Infant  Age_Kid  Age_Young  Age_Adult  \\\n",
       "0            0           0           0        0          0          1   \n",
       "1            0           0           0        0          1          0   \n",
       "2            0           0           0        0          1          0   \n",
       "3            1           0           0        0          0          1   \n",
       "4            0           1           0        0          0          1   \n",
       "\n",
       "   Age_Old  Sex_female  Sex_male  \n",
       "0        0           0         1  \n",
       "1        0           0         1  \n",
       "2        0           0         1  \n",
       "3        0           1         0  \n",
       "4        0           0         1  "
      ]
     },
     "execution_count": 615,
     "metadata": {},
     "output_type": "execute_result"
    }
   ],
   "source": [
    "df.head()"
   ]
  },
  {
   "cell_type": "code",
   "execution_count": 616,
   "metadata": {},
   "outputs": [],
   "source": [
    "#apply the decision tree with a training set and a testing set\n",
    "Y = df['Survived']\n",
    "#drop the columns 'Name' et 'Ticket' and work only on the other columns \n",
    "X = df.drop(columns = ['Survived', \"Name\", \"Ticket\", \"Cabin\", \"Embarked\"], axis=1)\n",
    "X_train, X_test, Y_train, Y_test = train_test_split(X, Y, test_size = 0.20, random_state = 10)"
   ]
  },
  {
   "cell_type": "code",
   "execution_count": 617,
   "metadata": {},
   "outputs": [
    {
     "data": {
      "text/plain": [
       "[Text(167.4, 190.26, 'X[13] <= 0.032\\ngini = 0.469\\nsamples = 712\\nvalue = [444, 268]'),\n",
       " Text(83.7, 135.9, 'X[1] <= 1.121\\ngini = 0.296\\nsamples = 460\\nvalue = [377, 83]'),\n",
       " Text(41.85, 81.53999999999999, 'X[4] <= 0.085\\ngini = 0.461\\nsamples = 100\\nvalue = [64, 36]'),\n",
       " Text(20.925, 27.180000000000007, 'gini = 0.471\\nsamples = 95\\nvalue = [59, 36]'),\n",
       " Text(62.775000000000006, 27.180000000000007, 'gini = 0.0\\nsamples = 5\\nvalue = [5, 0]'),\n",
       " Text(125.55000000000001, 81.53999999999999, 'X[8] <= 0.371\\ngini = 0.227\\nsamples = 360\\nvalue = [313, 47]'),\n",
       " Text(104.625, 27.180000000000007, 'gini = 0.197\\nsamples = 344\\nvalue = [306, 38]'),\n",
       " Text(146.475, 27.180000000000007, 'gini = 0.492\\nsamples = 16\\nvalue = [7, 9]'),\n",
       " Text(251.10000000000002, 135.9, 'X[1] <= 2.009\\ngini = 0.39\\nsamples = 252\\nvalue = [67, 185]'),\n",
       " Text(209.25, 81.53999999999999, 'X[7] <= 0.79\\ngini = 0.1\\nsamples = 133\\nvalue = [7, 126]'),\n",
       " Text(188.32500000000002, 27.180000000000007, 'gini = 0.163\\nsamples = 56\\nvalue = [5, 51]'),\n",
       " Text(230.175, 27.180000000000007, 'gini = 0.051\\nsamples = 77\\nvalue = [2, 75]'),\n",
       " Text(292.95, 81.53999999999999, 'X[4] <= 0.865\\ngini = 0.5\\nsamples = 119\\nvalue = [60, 59]'),\n",
       " Text(272.02500000000003, 27.180000000000007, 'gini = 0.479\\nsamples = 83\\nvalue = [50, 33]'),\n",
       " Text(313.875, 27.180000000000007, 'gini = 0.401\\nsamples = 36\\nvalue = [10, 26]')]"
      ]
     },
     "execution_count": 617,
     "metadata": {},
     "output_type": "execute_result"
    },
    {
     "data": {
      "image/png": "[encoded data removed]",
      "text/plain": [
       "<Figure size 432x288 with 1 Axes>"
      ]
     },
     "metadata": {
      "needs_background": "light"
     },
     "output_type": "display_data"
    }
   ],
   "source": [
    "#plot our decision tree and try to read the tree branches and conclude a prediction manually\n",
    "#make an instance of our model\n",
    "decision_tree = tree.DecisionTreeClassifier(criterion = \"gini\", splitter = 'random', max_leaf_nodes = 10, min_samples_leaf=5,max_depth=3)\n",
    "decision_tree.fit(X_train, Y_train)\n",
    "tree.plot_tree(decision_tree, filled=True)\n",
    "#dot_data = tree.export_graphviz(decision_tree, out_file=None)\n",
    "#graph = graphviz.source(dot_data)\n",
    "#graph.render('df')\n",
    "#graph"
   ]
  },
  {
   "cell_type": "code",
   "execution_count": 618,
   "metadata": {},
   "outputs": [],
   "source": [
    "#we can use the model for the prediction\n",
    "Y_pred = decision_tree.predict(X_test)"
   ]
  },
  {
   "cell_type": "code",
   "execution_count": 619,
   "metadata": {},
   "outputs": [
    {
     "name": "stdout",
     "output_type": "stream",
     "text": [
      "Score = 0.7932960893854749\n"
     ]
    }
   ],
   "source": [
    "#we can of the way calculate the score\n",
    "print('Score = {}'.format(accuracy_score(Y_test, Y_pred)))"
   ]
  },
  {
   "cell_type": "code",
   "execution_count": 620,
   "metadata": {},
   "outputs": [
    {
     "data": {
      "text/plain": [
       "[Text(147.96964285714287, 205.35999999999999, 'X[14] <= 0.5\\ngini = 0.469\\nsamples = 712\\nvalue = [444, 268]'),\n",
       " Text(76.52571428571429, 181.2, 'X[1] <= 2.5\\ngini = 0.39\\nsamples = 252\\nvalue = [67, 185]'),\n",
       " Text(38.26285714285714, 157.04, 'X[7] <= 0.5\\ngini = 0.1\\nsamples = 133\\nvalue = [7, 126]'),\n",
       " Text(19.13142857142857, 132.88, 'X[0] <= 315.0\\ngini = 0.163\\nsamples = 56\\nvalue = [5, 51]'),\n",
       " Text(9.565714285714286, 108.72, 'gini = 0.255\\nsamples = 20\\nvalue = [3, 17]'),\n",
       " Text(28.697142857142858, 108.72, 'gini = 0.105\\nsamples = 36\\nvalue = [2, 34]'),\n",
       " Text(57.394285714285715, 132.88, 'X[3] <= 0.5\\ngini = 0.051\\nsamples = 77\\nvalue = [2, 75]'),\n",
       " Text(47.82857142857143, 108.72, 'gini = 0.0\\nsamples = 44\\nvalue = [0, 44]'),\n",
       " Text(66.96000000000001, 108.72, 'gini = 0.114\\nsamples = 33\\nvalue = [2, 31]'),\n",
       " Text(114.78857142857143, 157.04, 'X[4] <= 0.5\\ngini = 0.5\\nsamples = 119\\nvalue = [60, 59]'),\n",
       " Text(105.22285714285715, 132.88, 'X[0] <= 400.0\\ngini = 0.479\\nsamples = 83\\nvalue = [50, 33]'),\n",
       " Text(86.09142857142857, 108.72, 'X[0] <= 158.0\\ngini = 0.499\\nsamples = 42\\nvalue = [20, 22]'),\n",
       " Text(76.52571428571429, 84.56, 'gini = 0.5\\nsamples = 22\\nvalue = [11, 11]'),\n",
       " Text(95.65714285714286, 84.56, 'gini = 0.495\\nsamples = 20\\nvalue = [9, 11]'),\n",
       " Text(124.35428571428571, 108.72, 'X[0] <= 668.0\\ngini = 0.393\\nsamples = 41\\nvalue = [30, 11]'),\n",
       " Text(114.78857142857143, 84.56, 'gini = 0.308\\nsamples = 21\\nvalue = [17, 4]'),\n",
       " Text(133.92000000000002, 84.56, 'gini = 0.455\\nsamples = 20\\nvalue = [13, 7]'),\n",
       " Text(124.35428571428571, 132.88, 'gini = 0.401\\nsamples = 36\\nvalue = [10, 26]'),\n",
       " Text(219.41357142857143, 181.2, 'X[1] <= 1.5\\ngini = 0.296\\nsamples = 460\\nvalue = [377, 83]'),\n",
       " Text(162.61714285714285, 157.04, 'X[0] <= 187.0\\ngini = 0.461\\nsamples = 100\\nvalue = [64, 36]'),\n",
       " Text(153.05142857142857, 132.88, 'gini = 0.236\\nsamples = 22\\nvalue = [19, 3]'),\n",
       " Text(172.18285714285713, 132.88, 'X[10] <= 0.5\\ngini = 0.488\\nsamples = 78\\nvalue = [45, 33]'),\n",
       " Text(162.61714285714285, 108.72, 'X[0] <= 548.0\\ngini = 0.499\\nsamples = 57\\nvalue = [30, 27]'),\n",
       " Text(153.05142857142857, 84.56, 'gini = 0.477\\nsamples = 28\\nvalue = [17, 11]'),\n",
       " Text(172.18285714285713, 84.56, 'gini = 0.495\\nsamples = 29\\nvalue = [13, 16]'),\n",
       " Text(181.74857142857144, 108.72, 'gini = 0.408\\nsamples = 21\\nvalue = [15, 6]'),\n",
       " Text(276.21, 157.04, 'X[3] <= 0.5\\ngini = 0.227\\nsamples = 360\\nvalue = [313, 47]'),\n",
       " Text(241.53428571428572, 132.88, 'X[0] <= 302.5\\ngini = 0.199\\nsamples = 303\\nvalue = [269, 34]'),\n",
       " Text(200.88, 108.72, 'X[1] <= 2.5\\ngini = 0.269\\nsamples = 100\\nvalue = [84, 16]'),\n",
       " Text(191.31428571428572, 84.56, 'gini = 0.133\\nsamples = 28\\nvalue = [26, 2]'),\n",
       " Text(210.4457142857143, 84.56, 'X[0] <= 204.5\\ngini = 0.313\\nsamples = 72\\nvalue = [58, 14]'),\n",
       " Text(200.88, 60.400000000000006, 'X[5] <= 0.5\\ngini = 0.233\\nsamples = 52\\nvalue = [45, 7]'),\n",
       " Text(191.31428571428572, 36.24000000000001, 'gini = 0.293\\nsamples = 28\\nvalue = [23, 5]'),\n",
       " Text(210.4457142857143, 36.24000000000001, 'gini = 0.153\\nsamples = 24\\nvalue = [22, 2]'),\n",
       " Text(220.01142857142858, 60.400000000000006, 'gini = 0.455\\nsamples = 20\\nvalue = [13, 7]'),\n",
       " Text(282.18857142857144, 108.72, 'X[11] <= 0.5\\ngini = 0.162\\nsamples = 203\\nvalue = [185, 18]'),\n",
       " Text(258.2742857142857, 84.56, 'X[0] <= 543.5\\ngini = 0.107\\nsamples = 124\\nvalue = [117, 7]'),\n",
       " Text(239.14285714285714, 60.400000000000006, 'X[0] <= 410.0\\ngini = 0.04\\nsamples = 49\\nvalue = [48, 1]'),\n",
       " Text(229.57714285714286, 36.24000000000001, 'gini = 0.095\\nsamples = 20\\nvalue = [19, 1]'),\n",
       " Text(248.70857142857142, 36.24000000000001, 'gini = 0.0\\nsamples = 29\\nvalue = [29, 0]'),\n",
       " Text(277.4057142857143, 60.400000000000006, 'X[0] <= 693.5\\ngini = 0.147\\nsamples = 75\\nvalue = [69, 6]'),\n",
       " Text(267.84000000000003, 36.24000000000001, 'gini = 0.213\\nsamples = 33\\nvalue = [29, 4]'),\n",
       " Text(286.9714285714286, 36.24000000000001, 'X[0] <= 778.0\\ngini = 0.091\\nsamples = 42\\nvalue = [40, 2]'),\n",
       " Text(277.4057142857143, 12.079999999999984, 'gini = 0.095\\nsamples = 20\\nvalue = [19, 1]'),\n",
       " Text(296.53714285714284, 12.079999999999984, 'gini = 0.087\\nsamples = 22\\nvalue = [21, 1]'),\n",
       " Text(306.10285714285715, 84.56, 'X[1] <= 2.5\\ngini = 0.24\\nsamples = 79\\nvalue = [68, 11]'),\n",
       " Text(296.53714285714284, 60.400000000000006, 'gini = 0.087\\nsamples = 22\\nvalue = [21, 1]'),\n",
       " Text(315.66857142857145, 60.400000000000006, 'X[0] <= 586.5\\ngini = 0.289\\nsamples = 57\\nvalue = [47, 10]'),\n",
       " Text(306.10285714285715, 36.24000000000001, 'gini = 0.393\\nsamples = 26\\nvalue = [19, 7]'),\n",
       " Text(325.2342857142857, 36.24000000000001, 'gini = 0.175\\nsamples = 31\\nvalue = [28, 3]'),\n",
       " Text(310.8857142857143, 132.88, 'X[2] <= 2.5\\ngini = 0.352\\nsamples = 57\\nvalue = [44, 13]'),\n",
       " Text(301.32, 108.72, 'gini = 0.451\\nsamples = 35\\nvalue = [23, 12]'),\n",
       " Text(320.45142857142855, 108.72, 'gini = 0.087\\nsamples = 22\\nvalue = [21, 1]')]"
      ]
     },
     "execution_count": 620,
     "metadata": {},
     "output_type": "execute_result"
    },
    {
     "data": {
      "image/png": "[encoded data removed]",
      "text/plain": [
       "<Figure size 432x288 with 1 Axes>"
      ]
     },
     "metadata": {
      "needs_background": "light"
     },
     "output_type": "display_data"
    }
   ],
   "source": [
    "#change the decision tree parameters values\n",
    "#let's changing the 'max_depth' and the min_samples_leaf\n",
    "decision_tree = tree.DecisionTreeClassifier(max_depth=2)\n",
    "decision_tree = tree.DecisionTreeClassifier(min_samples_leaf=20)\n",
    "decision_tree.fit(X_train, Y_train)\n",
    "tree.plot_tree(decision_tree, filled=True)"
   ]
  },
  {
   "cell_type": "markdown",
   "metadata": {},
   "source": [
    "here is tree obtained with min_samples_leaf = 2 and max_depth = 20. it has more elements in the leaves, so fewer nodes and the tree is shallower"
   ]
  },
  {
   "cell_type": "code",
   "execution_count": 621,
   "metadata": {},
   "outputs": [
    {
     "name": "stdout",
     "output_type": "stream",
     "text": [
      "Score = 0.8044692737430168\n"
     ]
    }
   ],
   "source": [
    "#calculate the new precision and compare it wit the previous results\n",
    "Y_pred = decision_tree.predict(X_test)\n",
    "print('Score = {}'.format(accuracy_score(Y_test, Y_pred)))"
   ]
  },
  {
   "cell_type": "markdown",
   "metadata": {},
   "source": [
    "We see that when we changed the parameters, the score also changed. "
   ]
  },
  {
   "cell_type": "code",
   "execution_count": 623,
   "metadata": {},
   "outputs": [
    {
     "name": "stdout",
     "output_type": "stream",
     "text": [
      "Accuracy =  0.7988826815642458\n"
     ]
    }
   ],
   "source": [
    "#use the random forest\n",
    "clf = RandomForestClassifier(n_estimators=100)\n",
    "clf.fit(X_train, Y_train)\n",
    "Y_pred = clf.predict(X_test)\n",
    "print('Accuracy = ', accuracy_score(Y_test, Y_pred))"
   ]
  },
  {
   "cell_type": "code",
   "execution_count": 624,
   "metadata": {},
   "outputs": [
    {
     "name": "stdout",
     "output_type": "stream",
     "text": [
      "Accuracy =  0.8044692737430168\n"
     ]
    }
   ],
   "source": [
    "#change the number of estimators\n",
    "clf = RandomForestClassifier(n_estimators=200)\n",
    "clf.fit(X_train, Y_train)\n",
    "Y_pred = clf.predict(X_test)\n",
    "print('Accuracy = ', accuracy_score(Y_test, Y_pred))"
   ]
  },
  {
   "cell_type": "markdown",
   "metadata": {},
   "source": [
    "### comparison\n",
    "we see that when we set the number of estimators to 200, we find the same accuracy as when we set the min_samples_leaf to 20"
   ]
  },
  {
   "cell_type": "code",
   "execution_count": null,
   "metadata": {},
   "outputs": [],
   "source": []
  }
 ],
 "metadata": {
  "kernelspec": {
   "display_name": "Python 3",
   "language": "python",
   "name": "python3"
  },
  "language_info": {
   "codemirror_mode": {
    "name": "ipython",
    "version": 3
   },
   "file_extension": ".py",
   "mimetype": "text/x-python",
   "name": "python",
   "nbconvert_exporter": "python",
   "pygments_lexer": "ipython3",
   "version": "3.8.5"
  }
 },
 "nbformat": 4,
 "nbformat_minor": 4
}
